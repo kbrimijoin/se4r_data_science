{
 "cells": [
  {
   "cell_type": "markdown",
   "id": "7a9ba810-3e3d-400c-9412-28a36bacb3d2",
   "metadata": {},
   "source": [
    "# Data Science Tools and Ecosystem"
   ]
  },
  {
   "cell_type": "markdown",
   "id": "5110159a-fc80-4672-865b-da9bb5b20421",
   "metadata": {},
   "source": [
    "## Author\n",
    "Kristina Brimijoin"
   ]
  },
  {
   "cell_type": "markdown",
   "id": "3eb212dc-cc93-4602-bb4c-9faedeefe2ee",
   "metadata": {},
   "source": [
    "In this notebook, Data Science Tools and Ecosystem are summarized."
   ]
  },
  {
   "cell_type": "markdown",
   "id": "52e6471b-0600-4951-8e8f-bcbff7a8b17d",
   "metadata": {},
   "source": [
    "__Objectives:__\n",
    "- popular languages in Data Science\n",
    "- commonly used libraries in Data Science\n",
    "- examples of arithmetic expressions in Python\n"
   ]
  },
  {
   "cell_type": "markdown",
   "id": "2e23359f-35e6-4bbc-ad68-ae7ea86963c3",
   "metadata": {},
   "source": [
    "Some of the popular languages that Data Scientists use are:"
   ]
  },
  {
   "cell_type": "markdown",
   "id": "b8aa2f95-94b1-4709-b846-1e759e3806fa",
   "metadata": {},
   "source": [
    "1. python\n",
    "2. R\n",
    "3. SQL\n",
    "4. Java"
   ]
  },
  {
   "cell_type": "markdown",
   "id": "ad6034fb-c1af-42a2-b935-8441ca68cbba",
   "metadata": {},
   "source": [
    "Some of the commonly used libraries used by Data Scientists include:"
   ]
  },
  {
   "cell_type": "markdown",
   "id": "8d89dd05-6a36-440d-b045-24f48e946034",
   "metadata": {},
   "source": [
    "1. pandas\n",
    "2. matplotlib\n",
    "3. scipi\n",
    "4. scikit-learn\n",
    "5. numpy"
   ]
  },
  {
   "cell_type": "markdown",
   "id": "a80596c1-94a9-43dd-9e81-6250891c4c39",
   "metadata": {},
   "source": [
    "| Data Science Tools |\n",
    "|--------------------|\n",
    "| Jupyter Notebooks  |\n",
    "| R Studio           |\n",
    "| Google Colab       |"
   ]
  },
  {
   "cell_type": "markdown",
   "id": "f91d9416-c843-4643-a9fc-149a0d78eecc",
   "metadata": {},
   "source": [
    "### Below are a few examples of evaluating arithmetic expressions in Python"
   ]
  },
  {
   "cell_type": "code",
   "execution_count": 1,
   "id": "1a7d4c55-c52c-4720-9595-5f2316b19111",
   "metadata": {},
   "outputs": [
    {
     "data": {
      "text/plain": [
       "17"
      ]
     },
     "execution_count": 1,
     "metadata": {},
     "output_type": "execute_result"
    }
   ],
   "source": [
    "# This a simple arithmetic expression to mutiply then add integers\n",
    "(3*4)+5"
   ]
  },
  {
   "cell_type": "code",
   "execution_count": 2,
   "id": "77587af7-21c1-4080-b68d-5bc2dc3f92f4",
   "metadata": {},
   "outputs": [
    {
     "data": {
      "text/plain": [
       "3.3333333333333335"
      ]
     },
     "execution_count": 2,
     "metadata": {},
     "output_type": "execute_result"
    }
   ],
   "source": [
    "# This will convert 200 minutes to hours by diving by 60\n",
    "200/60"
   ]
  },
  {
   "cell_type": "code",
   "execution_count": null,
   "id": "fe3e919d-a45d-46f1-82d7-4dbd5b33fbe8",
   "metadata": {},
   "outputs": [],
   "source": []
  }
 ],
 "metadata": {
  "kernelspec": {
   "display_name": "Python 3 (ipykernel)",
   "language": "python",
   "name": "python3"
  },
  "language_info": {
   "codemirror_mode": {
    "name": "ipython",
    "version": 3
   },
   "file_extension": ".py",
   "mimetype": "text/x-python",
   "name": "python",
   "nbconvert_exporter": "python",
   "pygments_lexer": "ipython3",
   "version": "3.11.9"
  }
 },
 "nbformat": 4,
 "nbformat_minor": 5
}
